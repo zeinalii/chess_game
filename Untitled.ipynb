{
 "cells": [
  {
   "cell_type": "code",
   "execution_count": 1,
   "id": "bcf4f8e8",
   "metadata": {},
   "outputs": [],
   "source": [
    "import numpy as np\n",
    "BOARD_SIZE = 3\n",
    "a = np.zeros((BOARD_SIZE, BOARD_SIZE), dtype=np.int8)"
   ]
  },
  {
   "cell_type": "code",
   "execution_count": 5,
   "id": "374ede01",
   "metadata": {},
   "outputs": [],
   "source": [
    "b = '\\n'.join([f\"{BOARD_SIZE-i}|{'|'.join([str(p) for p in row])}|\" for i, row in enumerate(a)])"
   ]
  },
  {
   "cell_type": "code",
   "execution_count": 6,
   "id": "c7d8f555",
   "metadata": {},
   "outputs": [
    {
     "name": "stdout",
     "output_type": "stream",
     "text": [
      "3|0|0|0|\n",
      "2|0|0|0|\n",
      "1|0|0|0|\n"
     ]
    }
   ],
   "source": [
    "print(b)"
   ]
  },
  {
   "cell_type": "code",
   "execution_count": 8,
   "id": "16e42b86",
   "metadata": {},
   "outputs": [],
   "source": [
    "import string\n",
    "COL_TRANSLATOR = {j:i for i, j in enumerate(string.ascii_lowercase)}\n",
    "ROW_TRANSLATOR = {(i):i-1 for i in range(1,10)}"
   ]
  },
  {
   "cell_type": "code",
   "execution_count": 9,
   "id": "7e252810",
   "metadata": {},
   "outputs": [
    {
     "ename": "SyntaxError",
     "evalue": "invalid syntax (3456113190.py, line 2)",
     "output_type": "error",
     "traceback": [
      "\u001b[0;36m  Input \u001b[0;32mIn [9]\u001b[0;36m\u001b[0m\n\u001b[0;31m    [board=self.player1, self.board=self.player2],\u001b[0m\n\u001b[0m          ^\u001b[0m\n\u001b[0;31mSyntaxError\u001b[0m\u001b[0;31m:\u001b[0m invalid syntax\n"
     ]
    }
   ],
   "source": [
    "printed_board = np.select(\n",
    "            [board=self.player1, self.board=self.player2], \n",
    "            [player1_name, self.player2_name], \n",
    "            default=\" \")"
   ]
  },
  {
   "cell_type": "code",
   "execution_count": 25,
   "id": "9f7e0b21",
   "metadata": {},
   "outputs": [
    {
     "name": "stdout",
     "output_type": "stream",
     "text": [
      "40\n",
      "[20, 100, 120, 80]\n"
     ]
    }
   ],
   "source": [
    "import random\n",
    "\n",
    "mylist = [\"apple\", \"banana\", \"cherry\"]\n",
    "\n",
    "aList = [20, 40, 80, 100, 120]\n",
    "random.shuffle(aList)\n",
    "print(aList.pop())\n",
    "print(aList)\n",
    "\n",
    "# Output [20, 100, 80]"
   ]
  },
  {
   "cell_type": "code",
   "execution_count": 22,
   "id": "9bbff275",
   "metadata": {},
   "outputs": [
    {
     "data": {
      "text/plain": [
       "120"
      ]
     },
     "execution_count": 22,
     "metadata": {},
     "output_type": "execute_result"
    }
   ],
   "source": [
    "aList.pop()"
   ]
  },
  {
   "cell_type": "code",
   "execution_count": 26,
   "id": "eb2c0180",
   "metadata": {},
   "outputs": [
    {
     "data": {
      "text/plain": [
       "[20, 100, 120, 80, 20, 100, 120, 80]"
      ]
     },
     "execution_count": 26,
     "metadata": {},
     "output_type": "execute_result"
    }
   ],
   "source": [
    "aList * 2"
   ]
  },
  {
   "cell_type": "code",
   "execution_count": 27,
   "id": "6c0587fa",
   "metadata": {},
   "outputs": [
    {
     "data": {
      "text/plain": [
       "[20, 100, 120, 80]"
      ]
     },
     "execution_count": 27,
     "metadata": {},
     "output_type": "execute_result"
    }
   ],
   "source": [
    "aList"
   ]
  },
  {
   "cell_type": "code",
   "execution_count": 28,
   "id": "d39b494e",
   "metadata": {},
   "outputs": [
    {
     "data": {
      "text/plain": [
       "80"
      ]
     },
     "execution_count": 28,
     "metadata": {},
     "output_type": "execute_result"
    }
   ],
   "source": [
    "aList.pop()"
   ]
  },
  {
   "cell_type": "code",
   "execution_count": 31,
   "id": "a1791a40",
   "metadata": {},
   "outputs": [
    {
     "name": "stdout",
     "output_type": "stream",
     "text": [
      "0\n",
      "1\n",
      "2\n",
      "3\n",
      "4\n",
      "5\n",
      "Flushing buffer\n",
      "6\n",
      "7\n",
      "8\n",
      "9\n",
      "0\n",
      "1\n",
      "2\n",
      "3\n",
      "4\n",
      "5\n",
      "Flushing buffer\n",
      "6\n",
      "7\n",
      "8\n",
      "9\n"
     ]
    }
   ],
   "source": [
    "import time\n",
    "import sys\n",
    "\n",
    "for i in range(10):\n",
    "    print(i)\n",
    "    if i == 5:\n",
    "        print( \"Flushing buffer\")\n",
    "        sys.stdout.flush()\n",
    "\n",
    "for i in range(10):\n",
    "    print(i)\n",
    "    if i == 5:\n",
    "        print(\"Flushing buffer\")\n",
    "        sys.stdout.flush()"
   ]
  },
  {
   "cell_type": "code",
   "execution_count": 18,
   "id": "c9e098f7",
   "metadata": {},
   "outputs": [],
   "source": [
    "import numpy as np\n",
    "\n",
    "printed_board = np.array([[' ', ' ', ' '], [' ', ' ', ' '], [' ', ' ', ' ']]).tolist()\n",
    "\n",
    "PRINT = \"\"\"\n",
    "         |         |        \n",
    "    {n[0][0]}    |    {n[0][1]}    |    {n[0][2]}\n",
    "         |         |        \n",
    "---------+---------+--------\n",
    "         |         |        \n",
    "    {n[1][0]}    |    {n[1][1]}    |    {n[1][2]}\n",
    "         |         |        \n",
    "---------+---------+--------\n",
    "         |         |\n",
    "    {n[2][0]}    |    {n[2][1]}    |    {n[2][2]}\n",
    "         |         |\n",
    "\"\"\""
   ]
  },
  {
   "cell_type": "code",
   "execution_count": 20,
   "id": "61d42ed2",
   "metadata": {},
   "outputs": [
    {
     "name": "stdout",
     "output_type": "stream",
     "text": [
      "\n",
      "         |         |        \n",
      "         |         |     \n",
      "         |         |        \n",
      "---------+---------+--------\n",
      "         |         |        \n",
      "         |         |     \n",
      "         |         |        \n",
      "---------+---------+--------\n",
      "         |         |\n",
      "         |         |     \n",
      "         |         |\n",
      "\n"
     ]
    }
   ],
   "source": [
    "print(PRINT.format(n=printed_board))"
   ]
  },
  {
   "cell_type": "code",
   "execution_count": 17,
   "id": "a3f9a06f",
   "metadata": {},
   "outputs": [
    {
     "data": {
      "text/plain": [
       "[[' ', ' ', ' '], [' ', ' ', ' '], [' ', ' ', ' ']]"
      ]
     },
     "execution_count": 17,
     "metadata": {},
     "output_type": "execute_result"
    }
   ],
   "source": [
    "printed_board"
   ]
  },
  {
   "cell_type": "code",
   "execution_count": 40,
   "id": "602a2bf0",
   "metadata": {},
   "outputs": [],
   "source": [
    "A = np.random.random((5,5))\n",
    "a = np.where(A > 0.5, 1, 0) * np.random.random(A.shape)"
   ]
  },
  {
   "cell_type": "code",
   "execution_count": 41,
   "id": "7d3592b7",
   "metadata": {},
   "outputs": [
    {
     "data": {
      "text/plain": [
       "array([[0.48672656, 0.83323801, 0.24395455, 0.39309469, 0.15265161],\n",
       "       [0.30741197, 0.74523928, 0.23535866, 0.09152185, 0.2457135 ],\n",
       "       [0.17475621, 0.90441662, 0.71817548, 0.49811251, 0.02273718],\n",
       "       [0.66299355, 0.55145963, 0.15063515, 0.19813438, 0.72879744],\n",
       "       [0.45264567, 0.02478629, 0.2576736 , 0.68243956, 0.15003683]])"
      ]
     },
     "execution_count": 41,
     "metadata": {},
     "output_type": "execute_result"
    }
   ],
   "source": [
    "A"
   ]
  },
  {
   "cell_type": "code",
   "execution_count": 42,
   "id": "e31b5e9e",
   "metadata": {},
   "outputs": [
    {
     "data": {
      "text/plain": [
       "array([[0.        , 0.91023503, 0.        , 0.        , 0.        ],\n",
       "       [0.        , 0.91032057, 0.        , 0.        , 0.        ],\n",
       "       [0.        , 0.20235161, 0.96585215, 0.        , 0.        ],\n",
       "       [0.56664836, 0.41235632, 0.        , 0.        , 0.73776968],\n",
       "       [0.        , 0.        , 0.        , 0.73732514, 0.        ]])"
      ]
     },
     "execution_count": 42,
     "metadata": {},
     "output_type": "execute_result"
    }
   ],
   "source": [
    "a"
   ]
  },
  {
   "cell_type": "code",
   "execution_count": 48,
   "id": "d7c54538",
   "metadata": {},
   "outputs": [
    {
     "data": {
      "text/plain": [
       "array([[0.48672656, 0.83323801, 0.24395455, 0.39309469, 0.15265161],\n",
       "       [0.30741197, 0.74523928, 0.23535866, 0.09152185, 0.2457135 ],\n",
       "       [0.17475621, 0.90441662, 0.71817548, 0.49811251, 0.02273718],\n",
       "       [0.66299355, 0.55145963, 0.15063515, 0.19813438, 0.72879744],\n",
       "       [0.45264567, 0.02478629, 0.2576736 , 0.68243956, 0.15003683]])"
      ]
     },
     "execution_count": 48,
     "metadata": {},
     "output_type": "execute_result"
    }
   ],
   "source": [
    "A"
   ]
  },
  {
   "cell_type": "code",
   "execution_count": 46,
   "id": "d53d0895",
   "metadata": {},
   "outputs": [],
   "source": [
    "def play(game_state, available_moves):\n",
    "        move_prob = np.random.random(available_moves.shape)\n",
    "        available_moves_prob = available_moves * move_prob\n",
    "        return np.unravel_index(available_moves_prob.argmax(), available_moves_prob.shape)"
   ]
  },
  {
   "cell_type": "code",
   "execution_count": 55,
   "id": "a798083b",
   "metadata": {},
   "outputs": [
    {
     "data": {
      "text/plain": [
       "(3, 4)"
      ]
     },
     "execution_count": 55,
     "metadata": {},
     "output_type": "execute_result"
    }
   ],
   "source": [
    "play(None, A)"
   ]
  },
  {
   "cell_type": "code",
   "execution_count": 3,
   "id": "c956e860",
   "metadata": {},
   "outputs": [],
   "source": [
    "a = [1,2 ,3 ,4, 1 ,5]"
   ]
  },
  {
   "cell_type": "code",
   "execution_count": 2,
   "id": "f73da0a3",
   "metadata": {},
   "outputs": [
    {
     "data": {
      "text/plain": [
       "1"
      ]
     },
     "execution_count": 2,
     "metadata": {},
     "output_type": "execute_result"
    }
   ],
   "source": [
    "a.count(1)"
   ]
  },
  {
   "cell_type": "code",
   "execution_count": 60,
   "id": "ef46e688",
   "metadata": {},
   "outputs": [],
   "source": [
    "from undecorated import undecorated"
   ]
  },
  {
   "cell_type": "code",
   "execution_count": 73,
   "id": "eaff2ff0",
   "metadata": {},
   "outputs": [],
   "source": [
    "from functools import wraps\n",
    "\n",
    "def micro_component(name: str, version: str\n",
    "):\n",
    "    def add_attributes(func):\n",
    "        func.component_name = name\n",
    "        func.version = version\n",
    "        return func\n",
    "    return add_attributes"
   ]
  },
  {
   "cell_type": "code",
   "execution_count": 75,
   "id": "2f509023",
   "metadata": {},
   "outputs": [],
   "source": [
    "def fun(x):\n",
    "    return x**2\n",
    "\n",
    "@micro_component(name='test', version=\"2.0\")\n",
    "def fun"
   ]
  },
  {
   "cell_type": "code",
   "execution_count": null,
   "id": "146be84e",
   "metadata": {},
   "outputs": [],
   "source": []
  },
  {
   "cell_type": "code",
   "execution_count": 25,
   "id": "a31b715c",
   "metadata": {},
   "outputs": [],
   "source": []
  },
  {
   "cell_type": "code",
   "execution_count": null,
   "id": "32db9d25",
   "metadata": {},
   "outputs": [],
   "source": []
  },
  {
   "cell_type": "code",
   "execution_count": null,
   "id": "fc849378",
   "metadata": {},
   "outputs": [],
   "source": []
  },
  {
   "cell_type": "code",
   "execution_count": null,
   "id": "78e84801",
   "metadata": {},
   "outputs": [],
   "source": [
    "from functools import wraps\n",
    "from undecorated import undecorated\n",
    "\n",
    "def decorate_with(name: str, version: str):\n",
    "    def decorator(f):\n",
    "        @wraps(f)\n",
    "        def wrapper(name, version):\n",
    "            f\n",
    "            return f(*args, **kwargs)\n",
    "        return wrapper\n",
    "    return decorator"
   ]
  }
 ],
 "metadata": {
  "kernelspec": {
   "display_name": "Python 3 (ipykernel)",
   "language": "python",
   "name": "python3"
  },
  "language_info": {
   "codemirror_mode": {
    "name": "ipython",
    "version": 3
   },
   "file_extension": ".py",
   "mimetype": "text/x-python",
   "name": "python",
   "nbconvert_exporter": "python",
   "pygments_lexer": "ipython3",
   "version": "3.9.10"
  }
 },
 "nbformat": 4,
 "nbformat_minor": 5
}
